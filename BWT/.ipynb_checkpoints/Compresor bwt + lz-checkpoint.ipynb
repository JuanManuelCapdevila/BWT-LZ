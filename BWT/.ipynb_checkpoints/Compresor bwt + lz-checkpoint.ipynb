{
 "cells": [
  {
   "cell_type": "code",
   "execution_count": 2,
   "id": "c35f3d03",
   "metadata": {},
   "outputs": [],
   "source": [
    "import heapq\n",
    "from IPython.display import clear_output\n",
    "import io\n",
    "import math\n",
    "TAMAÑO_BLOQUE= 48\n",
    "BYTESVENTANA = 4\n",
    "BLOCK_SIZE= 10"
   ]
  },
  {
   "cell_type": "markdown",
   "id": "d2753f1b",
   "metadata": {},
   "source": [
    "    Aplicamos la transformada de Burrows-Wheeler \n",
    "    "
   ]
  },
  {
   "cell_type": "code",
   "execution_count": 5,
   "id": "7c56dcef",
   "metadata": {
    "scrolled": true
   },
   "outputs": [
    {
     "name": "stdout",
     "output_type": "stream",
     "text": [
      "10176 : 10224       99.96089166992569 %\n",
      "b'a.\\xb3aeael onr  r  dc arlasmvauc  Eo edsjeee  fo\\xc3c'\n",
      "insertando el ultimo bloque\n",
      "cantidad de bytes del bloque:  4 \n",
      "bytes restantes para completar el bloque:  44\n",
      "b'\\xad.\\xc3m'\n",
      "Se guardo el archivo\n",
      "b\"\\x00\\x00\\x00\\x04\\x00\\x00\\x00\\t,s6reloo n lru e etrddinctecae  uaahpdmoulen mmD\\x00\\x00\\x00\\x14ssoon,e\\xadhrt\\xadrlb ianapr d  ll aaaedd bgtea an\\xc3\\xc3sb\\x00\\x00\\x00\\x12.noaaoao\\xb3 nl\\xadeo itu nmbruU idsrtr ee\\xbae  p \\xc3\\xc3\\xc3dnp\\x00\\x00\\x00%ssl\\xb3esarrpln osdnnarep ioatcrpdlo   ot peoo  e\\xc3g\\x00\\x00\\x00\\x08lsaaoseecm  o  noud uipeealloedttrcdlm arooo  qq\\x00\\x00\\x00\\x0cd,eeaaa\\x9c tdb\\xe2rhameanatud p SlBoi nd beewssfo\\xe2\\x80s \\x00\\x00\\x00.oynrorn\\x9dro a tpdsr vv ueietdspls ioebe enn ie o\\x80\\x00\\x00\\x00&,,,s,sssssrmti   dtcl rnleaueoamifnrceyooioae h \\x00\\x00\\x00\\x03nssunsoaar lpjin   adrfsicdde ouedri aeaeuao   s\\x00\\x00\\x00\\x1fe,aaaaannzvltnnas uu u  ncoe\\xb3u e sier esffn er\\xc3i\\x00\\x00\\x00\\x05a,asrye,asa dnlrml a  drsed l  aiprli oo uoeoAcu\\x00\\x00\\x00!eezrenoearrtrcep   noududrd   aaunpa  eaegc fq a\\x00\\x00\\x00\\x06e.doosgras    hgee niadDds ueSblB idrdauuw  lgso\\x00\\x00\\x00#,seayaasdnmrr\\xb1hzmanurrsd  eeoia nube pea  fs a\\xc3a\\x00\\x00\\x00\\x00trloun\\xb3r,eotc   od rdsoeaoeummplc ueep    as s\\xc3g\\x00\\x00\\x00(.sseones dulrs i an nldcidldsd paiueedimUaeoa c \\x00\\x00\\x00\\x1caon,nrer striiss rlucnnaooeeemmem  uieeppie  ngs\\x00\\x00\\x00\\x1bory,aseee ts odtttdplprnaomserp p   iaeeeee nno \\x00\\x00\\x00\\x08,dosnaare  d\\xadheha eaoniadrd SslBuidppd  ocw  o\\xc3b\\x00\\x00\\x00$ereraa,oaa lmrzrn udlm a os  lslpr  ooouui aqtAe\\x00\\x00\\x00\\x06eanarotll nttta  usd lmvmce  ai\\xb3iodc aar niipe\\xc3i\\x00\\x00\\x00\\x16.oasrn,aoa  lgrlcsPia  adrr p o nirtl aroraeeoai\\x00\\x00\\x00\\x1fssaslo rp   nodimotrxeiedtcrr\\xb1 dopue\\xadoois Ae\\xc3\\xc3aa\\x00\\x00\\x00%assnsao,odmldltd  aur pnmc c s ea rnlr aeaoeoi i\\x00\\x00\\x00\\x1fsne,nesvtin st rsmfruicdaoeeee op  epauare nnnse\\x00\\x00\\x00$ed\\xb3aarros r tdzlriea  iudblcd   lr aao uearqAa\\xc3i\\x00\\x00\\x00(aseuy\\xb3rdidmr eau dr pccroirrpfoo  ao oppu sic \\xc3n\\x00\\x00\\x00+oea,aersaoir eplme   iudrd trb el dls  aaceaoraq\\x00\\x00\\x00\\x06o.aaea eor rd\\xadhn a\\xa1aoutmc  l cail eNgp  eenq\\xc3\\xc3fd\\x00\\x00\\x00\\x1eoo\\xb3sssoupzlpru inictt e  apdh um aa\\xa1aar cmca\\xc3\\xc3ms\\x00\\x00\\x00\\x16nsaoarurr rmplz mr imp ro oeicrrf o aaagaoape sn\\x00\\x00\\x00\\x15nssea,ssr  g\\xb1lt sdu opn  e ooohrmmliaaeaoao nf\\xc3a\\x00\\x00\\x00 aualrorrrhpne unv cua aodcr iauu tten sscasrrtto\\x00\\x00\\x00,aaananeallzdnrutr i edi l  lpa a\\xb3aeuf dgo rc e\\xc3s\\x00\\x00\\x00\\x19neanroch\\xadg aseo   iidd viicdtmc ieaoidncauesbn\\xc3b\\x00\\x00\\x00\\x0fns,snrsosrus a s trd r   eaietdllieebo\\xa1oeeonnc\\xc3m\\x00\\x00\\x00\\x04nss, snlore e rsdtvrlnea uousrtlrccaeeioo r e  i\\x00\\x00\\x00\\ra,lesaeesllnngon  durds muel ieuiosdbsb aa  oqr \\x00\\x00\\x00$\\xb3l,eaaaelnr dlrltri ds vvoe poaabv a\\xc3\\xa1 n l \\xc3\\xc3  i\\x00\\x00\\x00-.llsssln u\\xadr   od vsdeoaelaetbLdlir \\xa1poooo coe\\xc3n\\x00\\x00\\x00&snnyoles ios  iirertveoeoo\\xa9pgvrccm pteeo  nl  \\xc3c\\x00\\x00\\x00+o,aaueesbnb  aonutrt ectie unrsipian pooe so sqa\\x00\\x00\\x00\\x02easoooardntp  a drie mghrao  enztccpl mariooorni\\x00\\x00\\x00\\x02ao oeenaaarm rteoe iuudnl cbsbeu  dnr   aepeiqq \\x00\\x00\\x00)oan,srronh\\xadeae   iird usr cdeleaudtleac ocels \\xc3b\\x00\\x00\\x00\\x19edsyy,oeslodsyc au  dd  fr or inrm jg\\xa1oaaai  o\\xc3m\\x00\\x00\\x00\\nresesneeh  l a rn n ddddccdr na\\xb3oauedrea teone\\xc3i\\x00\\x00\\x00).,,yo\\xadrsoss lti a cl rm e surdPfm octoaoimeoh \\xc3s\\x00\\x00\\x00\\toosaennr c oo uiitvveouauocppprcpnm   noeo q ain\\x00\\x00\\x00!nsa,anosz lstimn rfiicldb a  ao\\xa9eorleeua   slu\\xc3i\\x00\\x00\\x00)nrsassas  izytie  r  dcplcre eorlfmsapcaoaoaee e\\x00\\x00\\x00\\x08aneoueen rnzlrt  uuu ud cuaa np   aoeee ssqqqf r\\x00\\x00\\x00\\x17n,a,osaseicbmin t  ip  scsrelo ee clxee\\xa1o\\xadae\\xc3\\xc3mf\\x00\\x00\\x00\\x04snsasensir\\xa9n   rr  flicdbi   oaeeclletee\\xa1oon\\xc3\\xc3md\\x00\\x00\\x00\\x01o u6saa,os i\\xadhlm au itpn cnc  aeadrl eoea nsst\\xc3b\\x00\\x00\\x00\\x10.snssona duzdlremio indi vcd rooadtrcf oeaaa C a\\x00\\x00\\x00\\x10eaaa,udrdluidd  rl  aauuubiptcc aaro  aep nsgiiq\\x00\\x00\\x00\\x1faesraeaaabdlr glpa aeoodusdrcs n eeemtd ea o   f\\x00\\x00\\x00-enl,ea,yloal lrtrrc  n dd r paea ao draotg ui Ae\\x00\\x00\\x00$\\xa1aereoaemnicgn  esddmrr rde e iernualpaua   st\\xc3r\\x00\\x00\\x00\\x08snaaesrrirltpac r tn s vcc \\xb3aielp  aaetoeoinne\\xc3i\\x00\\x00\\x00\\nsuoos,streran  dbulnn  cbciooos icrrefeeeau nsgl\\x00\\x00\\x00\\x03onrvoa,llorm r r ddtdn leeel  ee iaernn eeo tnne\\x00\\x00\\x00\\x0e.assnerns lr ldla   adn mnc c d\\xb3oaiCtatoaeeiss\\xc3i\\x00\\x00\\x00.naya,sazo \\xadbld c sdppaa\\xa9nanl e aeuad  gaab a\\xc3\\xc3Ar\\x00\\x00\\x00-oae,oaleat\\xadrhsphau aud   ce utdrh   ouaasnmqpo\\xc3b\\x00\\x00\\x00\\neanoealloom r\\xadhta us i  tae oee pnmcrm ou   qA\\xc3b\\x00\\x00\\x00\\x1eosasnl,olhr \\xad\\xbaais a lda buadcl \\xad tuoio sps\\xc3\\xc3\\xc3bcp\\x00\\x00\\x00$sossenlh zvrlaaaacre r mnt pdeeidbmt oeaui assia\\x00\\x00\\x00\\x1byseenseoo iu suuicr lcdtaue euhpmnm o eo  mfqrg \\x00\\x00\\x00\\x08sara,ananllr mbme ianstf broai cr r iuit\\xbao aop\\xc3p\\x00\\x00\\x00\\x08lae\\xb3eyaa\\xc3rcnd znu  du   pearueocmf  ootndq  i\\xc3mr\\x00\\x00\\x00/oaa\\xb3aa,andrni frlini alvvumviiauueadhnot q   i a\\x00\\x00\\x00\\toeadoe,onphdnm aiaaiuspne rd  ro idrlcf   uoe qg\\x00\\x00\\x00\\r .sn\\xb3n,osao\\nl u   t lcrmlpe ouoticchmeoeiaseM \\xc3s\\x00\\x00\\x00\\x0eoels5sn,s 94  r   d  ddee\\xb1r\\xb1ssou\\xa9o\\xa9eeApp\\xc3\\xc3\\xc3\\xc3uuaa\\x00\\x00\\x00\\x0eao,sselaarabn dsiai udr  tnl deee ueinlfe oo  c \\x00\\x00\\x00\\r.nonou,nara rnfi Mi  rl lueeuee aanfn oe\\xa9 sq h\\xc3u\\x00\\x00\\x00\\x14ou,oynrzddvnulaa v\\xb1ta o eueddspm o  onst jiu e\\xc3i\\x00\\x00\\x00\\x02an,euaeozbntmra utv\\xb1 vsn  uea alj ui insqhdo e\\xc3i\\x00\\x00\\x00\\x01af,\\xb3alelolbtrsunae    iadd d acd\\xa9a aedmoeesc\\xc3\\xc3 i\\x00\\x00\\x00\\x15lro,yloo\\x9c  uio  ai rluctlaaeioodmfncca Arctie\\xe2\\x80 \\x00\\x00\\x00$.enoaeoy\\x9d rs r\\xba u\\xadi daluab eNr  e aelqgmu\\xe2\\x80\\xc3\\xc3fps\\x00\\x00\\x00\\x19eyoe,anaor ccii\\xa1tt mm prl teaaueerf  e epnnc e\\xc3r\\x00\\x00\\x00\\x16raonenear trei luldbosrbp iuuylpr m aag reooq  e\\x00\\x00\\x00\\x16.,.nrorooy   hiibmaMM \\xc3r  llShee eiaalgznnooaeib\\x00\\x00\\x00+oenoua,aay \\xad\\xadsn  iuvdracsueod\\xadc  eni ssq  e \\xc3\\xc3tf\\x00\\x00\\x00\\x15nnneoslene smbm tus  i\\xa1gero ouee ncr aaau aq  \\xc3m\\x00\\x00\\x00\\x0fneyalalr,sryrtcoiaau   rdcee\\xb3dpp   oet oar qe \\xc3i\\x00\\x00\\x00 d&rs\\x9dsse \\x9c pldcioa d r\\xa1gF B  ols\\xa1iaaae\\xe2\\xe2\\x80\\x80\\xc3\\xc3mm e\\x00\\x00\\x00&ensss,\\xadra r\\xadscl  ooddoappsprr   oouedaaao  A\\xc3\\xc3sr\\x00\\x00\\x00$.aalornaiea ln lctrib ms  d   Sbelaa ausaguera c\\x00\\x00\\x00\\rlnynoeyoar bme  td ii ribtteo ue eanuce nan gmue\\x00\\x00\\x00!y,ayaeoerrctpd aantl u  b \\xa1t aeaeraesrussftmu \\xc3t\\x00\\x00\\x00\\x11s,uossseenmvr djlr lslaal   ri lngt aoeoeoae sse\\x00\\x00\\x00 .nyersanos  idgp  a atsrdopooadrMc searaue e ns \\x00\\x00\\x00\\x11ssrarouerfile  ddr nr lsc eoaaninp ooe \\xa9eai sh\\xc3u\\x00\\x00\\x00\\x1aol,als,ays\\xad hidpua laaa  ro veaoedds due  csne\\xc3b\\x00\\x00\\x00(soann,asaal  nuer sall     aauo\\xb3utrcgodenenc j\\xc3r\\x00\\x00\\x00\\x01nalaeelaainr  rp  eulpn  rfaariuopb s satceeocq \\x00\\x00\\x00*eroaeaalo  \\xadrha nidur tn d eeuiindr ou re Aqft\\xc3b\\x00\\x00\\x00-ease,asr cprhd\\xa9una  ttmcrcal ieari oupuaannmd \\xc3d\\x00\\x00\\x00\\x11seeynassy\\xadmpp  tud l euoaactfn m aaoooersrqh  \\xc3t\\x00\\x00\\x00\\x11.lnenaeuo lp i udS rttrrce \\xb3eitbes oreao  risq\\xc3i\\x00\\x00\\x00\\x1aoailrnaal\\xadi bnpa   enru ibetbe eoa ndb saaoesq\\xc3c\\x00\\x00\\x00\\x08oya,nay,telr tcra  sp cil e ooasccr eegaronnsm u\\x00\\x00\\x00\\x0fnaeo,loyolmpi  trd l fedse \\xa9u\\xb3iaanncx nishe \\xc3\\xc3 i\\x00\\x00\\x00\\x0blaeaeynelizo n arsu   cvclhce i\\xb3aezbst onqi ii\\xc3i\\x00\\x00\\x00\\x05.srseiyaa stsl  edpptp idl e oacrx  agaeoensnmeu\\x00\\x00\\x00\\x11o,e,seeanbs hn\\xadaeaa aisiudrnre bdca odi  gee q\\xc3c\\x00\\x00\\x00\\x05l\\xb3eoroloi e   oisdd p mdcdee\\xadrbtt ate eussec\\xc3\\xc3ri\\x00\\x00\\x00'alaaeeralrristp   uudib tlve ab  ssaea uoeisqqqe\\x00\\x00\\x00\\x12eans,eoerd drsia umtim dl uua uaeee l atoennqcgh\\x00\\x00\\x00\\tsseysnsscor isu cile hce   oaagrlnfnee\\xa1oooo l \\xc3m\\x00\\x00\\x00\\x02.sreelns\\n reae rdtpi   imtcEiaoecttstggooeen snc\\x00\\x00\\x00\\ronsso\\xadl,nlmh  l\\xadb aaimn uaal  a aaee ln oeaq\\xc3\\xc3sb\\x00\\x00\\x00.srsaoeor ipi i ti utuvfvcv eaedlv aaeoe nncsnidr\\x00\\x00\\x00\\x12aeaeaeo,eonlirr su uuib tvt  \\xbaiaml  ee eslqqf \\xc3 \\x00\\x00\\x00\\x15aino,oar r\\xadhip oaMuijnslbtbeeueavt n oa elv i \\xc3b\\x00\\x00\\x00\\x04oasocsoal\\xad hpaio ia iru fctee odnpnc mdeu   ss\\xc3b\\x00\\x00\\x00\\x18raeara,al\\xadlrihpantriss cpt\\xa9 eeeec  oia   nnn\\xc3\\xc3 t\\x00\\x00\\x00-aa,\\xb3eonluasidv ai rud   btdveee\\xad \\xa9ee ssq  \\xc3\\xc3\\xc3icj\\x00\\x00\\x00\\x10oyeslrlaiaerdpsua iud pi ssbe\\xa9ed   aeun   hqs \\xc3 \\x00\\x00\\x00\\x11oooosns\\xbfi rmcuaia\\xad ir vsb aa eldnsdedaeo ahn\\xc3\\xc2 r\\x00\\x00\\x00\\tnornro?soe\\xadl rdrfe hri o aam\\xbfjcpm  oi\\xb3poea\\xc3\\xc3\\xc2 r \\x00\\x00\\x00\\x1fessrrenenlt sa   ldd pstntd\\xa9bue?ea eaeen esne \\xc3 \\x00\\x00\\x00\\tny,loauon azrrp o   \\xb1nn\\xa9 eeo dstc eau  sfmue\\xc3\\xc3 i\\x00\\x00\\x00\\x14\\xb3noesrruhdvjais pmlca v ao aeeetm ee\\xa1e nns  \\xc3\\xc3ms\\x00\\x00\\x00\\x06oe\\xb3rn, ylolec saa nur  psriteeoae dc  eg n  qe\\xc3b\\x00\\x00\\x00\\x12yun,rooonvaan sprl\\xb3tccec \\xb3 isrfm e e u oslie\\xc3\\xc3ii\\x00\\x00\\x00\\x03oonlasyeeonlct    ddipvmo ece eul\\xb1r jj aoas o \\xc3a\\x00\\x00\\x00\\x05\\xb3reosdlsa ptraur  ipmevse eien m at uai inqs e\\xc3z\\x00\\x00\\x00&ononyrels \\xadui  ns  Mrrrlleeeaoaaudfcno   e cee\\xc3n\\x00\\x00\\x00\\x15e,naaanraotblrtpma tvd  n   eu \\xb1yj oeaeessr oa\\xc3i\\x00\\x00\\x00\\x13soaosanald d jjaiarli  nrtdo e  eeie pnlmarueo b\\x00\\x00\\x00#sasyraoer \\xadl uiac  dMtlcll a eaespnp  ooeoe ce\\xc3n\\x00\\x00\\x00$al,naerolbluaeic uts vctca u\\xb3ipr i o e eoscqpr\\xc3i\\x00\\x00\\x00\\x1arssssned\\xadfe l  addsr  huioiaasjdnle\\xa9oooo  ch\\xc3\\xc3ub\\x00\\x00\\x00\\x12oaarraasslzln dto haaal   bo  nrdppcdd  oooooope\\x00\\x00\\x00\\x0fnrna\\xa9darerthdgp a aeu l tcne geoaec   eiaas qq\\xc3u\\x00\\x00\\x00+ r.ssnsss\\n\\nri\\xaddio M s lvre aaTnldoegoaouaiess \\xc3d\\x00\\x00\\x00\\tenaorann, tnc  \\xa1  dvitivds ueougencjeia nc  or\\xc3r\\x00\\x00\\x00,oaseaaasnb rtca r  mcdlpd e  euu tlseaeo\\xa1ernnj\\xc3m\\x00\\x00\\x00\\x16,ssrsss\\xad\\xb1cglnmen  dd re  aaerpnm\\xb1 oaaooaoa\\xc3\\xc3\\xc3bai\\x00\\x00\\x00\\x05,lansdaozln rc a  d diilpstle a iliagulnmeoeasge\\x00\\x00\\x00\\x1cssaa,sysss  scmrpersia  laolnrlll  a toooooa ao \\x00\\x00\\x00\\x18ossosee,aosrgjcn  add  prr   eunyrdll eaaeoooe  \\x00\\x00\\x00\\x13nr,yzsersm\\xadzde o   udd ndvldasaeipm aaoeec  ee\\xc3b\\x00\\x00\\x00\\rs,soyrnaosrrbsg\\xadano r pea uajdtld aet ooae    \\xc3d\\x00\\x00\\x00\\x0bnoonaeaoclrbmmooa  inad dsc o e\\xb3aaondd ptc en \\xc3i\\x00\\x00\\x00(nnaeanad\\xadlrhrdpaa  aiu m s c noe\\xb3oieccm  anq\\xc3\\xc3bi\\x00\\x00\\x00\\x0esslass,r ngtel\\xc3eoormdtumde   raitimdaaeaoao   ld\\x00\\x00\\x00/naaossasa\\xadln svutl  nilvsa l aua ednioaa  nc erc\\x00\\x00\\x00#l,snneeiod bca  n dr iusseaelo\\xbaao z dnmpeoa mr\\xc3m\\x00\\x00\\x00\\x1a.raneanaaaa s nrpdsna ar ddvp Uou csbosoeee  e  \\x00\\x00\\x00.snss,ea\\xadtxt aumi vnaoo ueocrr\\xb1nd aeooolnq  e\\xc3\\xc3ni\\x00\\x00\\x00\\x03aearasrnnddupvgccr  al dljreaal uaps oaa areer a\\x00\\x00\\x00\\x06soans,\\xc3s cmbtv am e adtnjrb alra\\xa9ilidaaeoo e \\xc3ci\\x00\\x00\\x00,oaeaaennsfl h\\xad\\xadlta \\xadudjie vs   aaed  ia nqr\\xc3a\\xc3bo\\x00\\x00\\x00$\\xb3orsssea urlvi u  nrdrrpadsboaato aadue  acss \\xc3p\\x00\\x00\\x00!o sseaelcc nedar aiu a  ntdhdccchbe iadpl eooarc\\x00\\x00\\x00\\x0beausneys\\xadl amft udil l u laaueaarn eoo ansqgh \\xc3s\\x00\\x00\\x00'.eoeeesro tcpcrcs s  nttdd r tiladlaaT  eeeaasas\\x00\\x00\\x00\\x0elseyssens\\xadc\\xb1  rdudvunne a  al\\xb1  eeooaoqq  \\xc3\\xc3\\xc3rii\\x00\\x00\\x00\\x00rsesnaos hgl\\xadmmaault e  fl  uaaaadpln  ooeonqh\\xc3b\\x00\\x00\\x00\\x01a s,n\\xadelyich asae  imd  r cclelurouct ioeanbse\\xc3d\\x00\\x00\\x00\\x17nnaeloo\\xadrhtbjjaanona rdd   a ee\\xadoaddtdtaes  \\xc3\\xc3bd\\x00\\x00\\x00\\toraiae,aarlrns\\xb1gfmetrm  umc   a a env aoepinla\\xc3a\\x00\\x00\\x00\\x19elnoarooo\\xadhn ca ai  bp dtleailoe  trlns ee asi\\xc3l\\x00\\x00\\x00\\x1a.ernia,ora\\xado rrrgPu umu i   uallp  noaaet qlq \\xc3l\\x00\\x00\\x00+r,alaaa\\xa9a tlds sgeisllrreela lla  srapcoe   eg\\xc3u\\x00\\x00\\x00\\x0csnreo,noraes \\xadpui  rdsvv d oau mncl aeaoa g   \\xc3e\\x00\\x00\\x00\\x18sssrloseflpuilaac  rddn odccea oirip  oa eaau gs\\x00\\x00\\x00*.lry,nuesls rme  idD i  cpeeouaaclrn oetood ssh \\x00\\x00\\x00/\\xa9seyer\\xadoslceoirmr sr v fu ed l etpoae nlca  \\xc3\\xc3ty\\x00\\x00\\x00\\x00pdsaoa,st\\xaddt r   aitsrm ooaemcctimauiooun  scb\\xc3n\\x00\\x00\\x00\\x0eoudaasssr d rxaaua gp\\xb1 amto r rj eeeeioo ciste\\xc3a\\x00\\x00\\x00\\ts,esonre\\xa9  aornumvc o o u\\xa1cplds  eego\\xa1eq  \\xc3\\xc3\\xc3cmr\\x00\\x00\\x00\\x16onsoaasa\\xb1n tbtuiasrn  mdno  aua d caa\\xa1eeslg \\xc3\\xc3mi\\x00\\x00\\x00\\x14sieoedyanbtdaae idu svomtf  uedspn  ooi ersq m u\\x00\\x00\\x00,oaeinssobrhcp\\xadaoai  aul stb  oo ldncclm aoe aq\\xc3b\\x00\\x00\\x00\\x07.aae,aeioa erlzbeoa dtsrlm lvv baeetr E p inse e\\x00\\x00\\x00\\x0erseaa,eoo\\xad\\xadl t ut dpu le enr   aaeeue snqqsq\\xc3\\xc3ur\\x00\\x00\\x00\\x1eauaoo,os\\xaddrrea rrdcmmou s ai nljseitp one  isp\\xc3t\\x00\\x00\\x00)nssnosseou  \\xadu lrncsb o \\xb3oe mnccdhl goeoo mq\\xc3\\xc3ei\\x00\\x00\\x00\\x1dlnouoea,aor\\xadhpca am     toeiloeedjlnpto ea s s\\xc3b\\x00\\x00\\x00!.aora,ena \\xadrdm svCra sdvlntai\\xb3ag at e uoai a\\xc3\\xc3ez\\x00\\x00\\x00\\x16ruaa,oora\\xad zhhl aae iiedlbl  cd brleddp ioa se\\xc3b\\x00\\x00\\x00\\x08\\xadeaao,oestichasa mdump  cru el irrl  peeoelvb \\xc3l\\x00\\x00\\x00\\x05elsoecsr cnpcmar  i dtlbts eaiillauill  eoaaansg\\x00\\x00\\x00\\x13ssasnsrrppp    s\\xb1nedum ooooccicrr omia eieaong\\xc3a\\x00\\x00\\x00\\x11nea,eeaoeaee\\xadroiu tulsd u vbu  enn   ee nqqq e\\xc3r\\x00\\x00\\x00\\x16ererynohrftglca mltri  t br aaeinp aoa\\xa9aannsh \\xc3u\\x00\\x00\\x00\\r,yonoolaaaarnds ln  n   clreca  euiudrg epae mmu\\x00\\x00\\x00\\x0foeseun,ras\\xadg or  iilusue  ee onnclfm apoo  slq\\xc3c\\x00\\x00\\x00&.asaaas b\\xb1bLtg ppliaana esu acn oe occamaanesc\\xc3i\\x00\\x00\\x00/aneaonrs\\xadd\\xb1d pnealaurvp oueedspj a  oaa q o \\xc3\\xc3cv\\x00\\x00\\x00\\nseosryrealem muru  rle orhpyi\\xb1    oobatoooqq a\\xc3a\\x00\\x00\\x00\\x05assrear\\xadcrtplbm a etrml  b uianpy  ooeaeaasnna\\xc3c\\x00\\x00\\x00\\x1bunyeosenoc\\xadna sunsub  el aeoolrdr  ufao  slqc \\xc3c\\x00\\x00\\x00(,aaasoenansrbtm bsb ra m nad raauadbuaaouues d  \\x00\\x00\\x00\\x17oaoioynnontprbca asa s eauorndct mp o ouooar  c \\x00\\x00\\x00+aoealleaeersntvle    idddpdumr cae  ugsaage er  \\x00\\x00\\x00\\x19aaua,naadtn\\xaddpppe ealpri e  caeucss saoeee rs \\xc3c\\x00\\x00\\x00\\x02.uneaanae nrj\\xb1 pi adl i srsvobeeiuhamuai S dp \\xc3u\\x00\\x00\\x00\\x0f,assooaeeeri  d i adutd lcmt aie aing eu\\xa1 nnqs\\xc3m\\x00\\x00\\x00\\nnseos,osriims eudp pr nlvurao rnc   eaaeeaaupcfe\\x00\\x00\\x00*raarelril etun tbsnsrdc tta ieoeepm aiape enn it\\x00\\x00\\x00\\x01,s,senss  drmart m uutt  elaaaelbeueeeoeobnrrffs\\x00\\x00\\x00\\t.\\xadaonaeooi tbtua  inMs uf d ouaedlmci e osncs \\xc3t\\x00\\x00\\x00\\x13rneaeeaa crcrnptr   tumtmiccm eaai een  aaaeonnq\\x00\\x00\\x00$,nirossbutepm  l mitsuaaaoo eaemmctsoleoe a nncq\\x00\\x00\\x00\\x08a.\\xb3aeael onr  r  dc arlasmvauc  Eo edsjeee  fo\\xc3c\\x00\\x00\\x00\\x01\\xad.\\xc3m\\x00\\x00\\x00\\x00\\x00\\x00\\x00\\x00\\x00\\x00\\x00\\x00\\x00\\x00\\x00\\x00\\x00\\x00\\x00\\x00\\x00\\x00\\x00\\x00\\x00\\x00\\x00\\x00\\x00\\x00\\x00\\x00\\x00\\x00\\x00\\x00\\x00\\x00\\x00\\x00\\x00\\x00\\x00\\x00\"\n",
      "52\n",
      "11128\n",
      "bytes validos del ultimo bloque:  4 \n",
      "indice 1:  9 \n",
      "Cantidad de bloques:  214.0 \n",
      "Tamaño del archivo:  11132\n"
     ]
    }
   ],
   "source": [
    "\n",
    "\n",
    "def insert_shift(string):\n",
    "    string = bytearray(string)\n",
    "    ultimo_byte = string.pop()\n",
    "    string.insert(0, ultimo_byte)\n",
    "    return string\n",
    "\n",
    "\n",
    "\n",
    "def find_index(headquarter, string):\n",
    "    return headquarter.index(string)\n",
    "\n",
    "def obtain_bwt(headquarter):\n",
    "    output =[]\n",
    "    for i in headquarter:\n",
    "        output.append(i[-1])\n",
    "    print(bytes(output))\n",
    "    return output\n",
    "\n",
    "def sort_headquarters(headquarters):\n",
    "  heapq.heapify(headquarters)\n",
    "  return [heapq.heappop(headquarters) for _ in range(len(headquarters))]\n",
    "\n",
    "def bwt(string):\n",
    "    headquarter = list()\n",
    "    for i in range(len(string)):\n",
    "        string = insert_shift(string)\n",
    "        headquarter.append(string)\n",
    "        headquarter= sort_headquarters(headquarter)\n",
    "    return (obtain_bwt(headquarter), find_index(headquarter, string))\n",
    "\n",
    "def format_header_and_indexes(byte):\n",
    "    if(len(byte) < BYTESVENTANA):\n",
    "        byte_a_agregar=BYTESVENTANA-len(byte)\n",
    "        #print(\"resultado: \",byte,\"\\nCantidad de bytes\",len(byte))\n",
    "        resultado = bytes([0] * byte_a_agregar)+byte\n",
    "        #print(\"resultado: \",resultado,\"\\nCantidad de bytes\",len(resultado),\"\\nEn numero: \",int.from_bytes(resultado, \"big\"))\n",
    "        return resultado\n",
    "    elif( len(byte) > BYTESVENTANA):\n",
    "        print(\"tamaño de la ventana no admisible\")\n",
    "\n",
    "def save_header(cut_point, filename):\n",
    "    with open(filename+\".bwt\",\"ab\") as file:\n",
    "        tamaniosegmento = cut_point\n",
    "        tamaniosegmentobytes = tamaniosegmento.to_bytes((tamaniosegmento.bit_length() + 7) // 8, \"big\")\n",
    "        file.write(format_header_and_indexes(tamaniosegmentobytes))\n",
    "def save_data(bwt_data, filename):\n",
    "    with open(filename+\".bwt\", \"ab\") as file:\n",
    "        #print(bwt_data)\n",
    "        indicebytes = int(bwt_data[1]).to_bytes((int(bwt_data[1]).bit_length() + 7) // 8, \"big\")\n",
    "        file.write(format_header_and_indexes(indicebytes))\n",
    "        file.write(bytes(bwt_data[0]))\n",
    "        file.close()\n",
    "\n",
    "def bwt_from_bytes(filename):\n",
    "    with open(filename, \"rb\") as f:\n",
    "        blocks = []\n",
    "        data = f.read()\n",
    "        print(int(len(data)//TAMAÑO_BLOQUE)+1)\n",
    "        for i in range(int(len(data)//TAMAÑO_BLOQUE)+1):\n",
    "            if i < int(len(data)//TAMAÑO_BLOQUE):    \n",
    "                clear_output(wait=True)\n",
    "                print(i*TAMAÑO_BLOQUE,\":\",(i+1)*TAMAÑO_BLOQUE,\"     \",((i+1)*TAMAÑO_BLOQUE/len(data))*100,\"%\")\n",
    "                clean_data = data[i*TAMAÑO_BLOQUE:(i+1)*TAMAÑO_BLOQUE]\n",
    "                bwt_data = bwt(clean_data)\n",
    "            else:\n",
    "                print(\"insertando el ultimo bloque\\ncantidad de bytes del bloque: \",len(data[i*TAMAÑO_BLOQUE:]),\"\\nbytes restantes para completar el bloque: \",TAMAÑO_BLOQUE-len(data[i*TAMAÑO_BLOQUE:]))\n",
    "                bytes_a_agregar = TAMAÑO_BLOQUE-len(data[i*TAMAÑO_BLOQUE:])\n",
    "                ultimo_bloque = data[i*TAMAÑO_BLOQUE:]\n",
    "                bwt_data = bwt(ultimo_bloque)\n",
    "                bwt_data = (bytes(bwt_data[0]) + bytes(bytes_a_agregar),bwt_data[1])\n",
    "            blocks.append(bwt_data)\n",
    "        save_header(TAMAÑO_BLOQUE-bytes_a_agregar, filename)\n",
    "        for b in blocks:\n",
    "            save_data(b,filename)\n",
    "    print(\"Se guardo el archivo\")\n",
    "    return bwt_data\n",
    "def bwt_show(filename):\n",
    "    with open(filename,\"rb\") as f:\n",
    "        data = f.read()\n",
    "        print(data)\n",
    "        punto_de_corte=int.from_bytes(data[:BYTESVENTANA], \"big\")\n",
    "        indices=int.from_bytes(data[BYTESVENTANA:BYTESVENTANA+BYTESVENTANA], \"big\")\n",
    "        bloques=((len(data)-BYTESVENTANA))/(BYTESVENTANA+TAMAÑO_BLOQUE)\n",
    "        print((BYTESVENTANA+TAMAÑO_BLOQUE))\n",
    "        print((len(data)-BYTESVENTANA))\n",
    "        print(\"bytes validos del ultimo bloque: \",punto_de_corte,\"\\nindice 1: \",indices,\"\\nCantidad de bloques: \",bloques, \"\\nTamaño del archivo: \",len(data))\n",
    "        \n",
    "\n",
    "if __name__ == \"__main__\":\n",
    "    filename = \"../datos/texto1.txt\"\n",
    "    bwt_data = bwt_from_bytes(filename)\n",
    "    bwt_show(filename+\".bwt\")\n"
   ]
  },
  {
   "cell_type": "markdown",
   "id": "dec04b0d",
   "metadata": {},
   "source": [
    "Aplicamos la destransformada de Burrows-Wheeler"
   ]
  },
  {
   "cell_type": "code",
   "execution_count": 17,
   "id": "1e5f44c4",
   "metadata": {
    "scrolled": false
   },
   "outputs": [
    {
     "name": "stdout",
     "output_type": "stream",
     "text": [
      "213 : 214       92.27452389507725 %\n",
      "bloque final: \n",
      " b'\\xad.\\xc3m\\x00\\x00\\x00\\x00\\x00\\x00\\x00\\x00\\x00\\x00\\x00\\x00\\x00\\x00\\x00\\x00\\x00\\x00\\x00\\x00\\x00\\x00\\x00\\x00\\x00\\x00\\x00\\x00\\x00\\x00\\x00\\x00\\x00\\x00\\x00\\x00\\x00\\x00\\x00\\x00\\x00\\x00\\x00\\x00' \n",
      "corto en  4\n",
      "ultimo bloque: \n",
      " (b'\\xad.\\xc3m', 1)\n",
      "b'm\\xc3\\xad.'\n"
     ]
    }
   ],
   "source": [
    "\n",
    "def insert_byte(headquarter,string):\n",
    "    string = bytearray(string)\n",
    "    if len(headquarter) == 0:\n",
    "        for i in range(len(string)):\n",
    "            headquarter.append([string[i]])        \n",
    "    else:\n",
    "        for i in range(len(string)):\n",
    "            headquarter[i].insert(0, string[i])\n",
    "    return headquarter\n",
    "\n",
    "def sort_headquarters(headquarters):\n",
    "  heapq.heapify(headquarters)\n",
    "  return [heapq.heappop(headquarters) for _ in range(len(headquarters))]\n",
    "\n",
    "def convert_to_bytes(string):\n",
    "    return bytes(string)\n",
    "\n",
    "def reverse_bwt(block):\n",
    "    headquarter = list()\n",
    "    bloque = block[0]\n",
    "    for i in range(len(bloque)):\n",
    "        bloque = insert_byte(headquarter,block[0])\n",
    "        headquarter=sort_headquarters(headquarter)\n",
    "    return (headquarter[block[1]])\n",
    "\n",
    "def save_file(reverse_file, filename):\n",
    "    with open (filename.replace(\".bwt\",\"\").replace(\"/datos\",\"/datos/descompress\"),\"ab\") as file:\n",
    "        file.write(bytes(reverse_file))\n",
    "    file.close()\n",
    "def get_blocks(data,segment_size):\n",
    "    bloques=int(((len(data)))/(BYTESVENTANA+TAMAÑO_BLOQUE))\n",
    "    blocks=[]\n",
    "    for i in range(bloques):\n",
    "        index=int.from_bytes(data[i*(BYTESVENTANA+TAMAÑO_BLOQUE):i*(BYTESVENTANA+TAMAÑO_BLOQUE)+BYTESVENTANA], \"big\")\n",
    "        block=data[i*(BYTESVENTANA+TAMAÑO_BLOQUE)+BYTESVENTANA:i*(BYTESVENTANA+TAMAÑO_BLOQUE)+BYTESVENTANA+TAMAÑO_BLOQUE]\n",
    "        bloque_tupla = (block,index)\n",
    "        blocks.append(bloque_tupla)\n",
    "    return blocks\n",
    "def revert_bwt(filename):\n",
    "    with open(filename,\"rb\") as f:\n",
    "        data = f.read()\n",
    "        cut_point=int.from_bytes(data[:BYTESVENTANA], \"big\")\n",
    "        blocks= get_blocks(data[BYTESVENTANA:],TAMAÑO_BLOQUE)\n",
    "        print(blocks)\n",
    "        for i in range(len(blocks)):\n",
    "            block = blocks[i]\n",
    "            clear_output(wait=True)\n",
    "            print(i,\":\",len(blocks),\"     \",((i+1)*TAMAÑO_BLOQUE/len(data))*100,\"%\")\n",
    "            if i < len(blocks)-1:\n",
    "                reverse=reverse_bwt(block)\n",
    "            else:\n",
    "                print(\"bloque final: \\n\",block[0],\"\\ncorto en \",cut_point)\n",
    "                clean_block=block[0]\n",
    "                clean_block=clean_block[:cut_point]\n",
    "                block = (clean_block,block[1])\n",
    "                print(\"ultimo bloque: \\n\",block)\n",
    "                reverse=reverse_bwt(block)\n",
    "            print(bytes(reverse))\n",
    "            save_file(reverse,filename)\n",
    "        f.close()   \n",
    "# Invertimos la cadena de texto.\n",
    "filename = \"../datos/texto1.txt.bwt\"\n",
    "revert_bwt(filename)"
   ]
  },
  {
   "cell_type": "code",
   "execution_count": 11,
   "id": "66dc9d15",
   "metadata": {},
   "outputs": [
    {
     "name": "stdout",
     "output_type": "stream",
     "text": [
      "b'Durante mucho tiempo, 6 clanes alrededor del mundo hab\\xc3\\xadan librado grandes batallas entre s\\xc3\\xad, pero un d\\xc3\\xada todo eso termin\\xc3\\xb3. Una niebla p\\xc3\\xbarpura se propag\\xc3\\xb3 por todos los rincones del planeta corrompiendo el alma de todos aquellos que tocaba, esta peste fue nombrada \\xe2\\x80\\x9cBlinded Shadows\\xe2\\x80\\x9d y en un intento desesperado por sobrevivir los humanos, elfos, cricetas, terralis, demonios y dioses dejaron a un lado sus diferencias para unirse en una sola naci\\xc3\\xb3n, esta nueva fuerza fue llamada Aurora, por la reina de los dioses, cuyo poder era tan grande que fue capaz de crear un lugar seguro de Blinded Shadows. Debido a sus grandes haza\\xc3\\xb1as, fue nombrada reina suprema y se catalog\\xc3\\xb3 su poder como el de un ser supremo, trascendiendo las cualidades de un simple dios. Un ser supremo era alguien omnipresente, omnisciente y omnipotente, pero a pesar de tales poderes, Blinded Shadows hab\\xc3\\xada sido creada por un poder de la misma naturaleza, por lo que Aurora solo pudo limitarse a evitar la contaminaci\\xc3\\xb3n del territorio, no a erradicar la plaga. Pasaron los primeros a\\xc3\\xb1os del pa\\xc3\\xads Aurora coexistiendo todos los clanes en la misma ciudad, pero no tardaron en presentarse nuevamente sus diferencias, por lo que Aurora decidi\\xc3\\xb3 dar libertad a las razas de formar su propia ciudad y proporcion\\xc3\\xb3 recursos para ello, debido a que crear materia de la nada era algo que f\\xc3\\xa1cilmente pod\\xc3\\xada hacer. No pas\\xc3\\xb3 mucho tiempo cuando las razas m\\xc3\\xa1s particulares comenzaron a migrar para formar su propio hogar, los demonios se fueron a las monta\\xc3\\xb1as aprovechando su estructura natural para construir una gran fortaleza de piedra s\\xc3\\xb3lida en la cual hab\\xc3\\xadan decidido investigar en busca de conocimiento, eran los m\\xc3\\xa1s interesados en descubrir los secretos del universo, los terralis crearon un bosque sobre unas ruinas, donde la semilla del gran \\xc3\\xa1rbol de la vida se volvi\\xc3\\xb3 a plantar, el \\xc3\\xa1rbol del cual todos ellos proven\\xc3\\xadan. Los dioses con el tiempo se volvieron egoc\\xc3\\xa9ntricos y pretenciosos, aunque su reina no aprobaba este tipo de comportamiento no hizo nada para corregirlos debido a que no era un problema que necesitara ser resuelto, ellos hab\\xc3\\xadan decidido crear una ciudad de casas de oro, joyas y fino m\\xc3\\xa1rmol y grandes centros de reuni\\xc3\\xb3n donde hacer alarde de s\\xc3\\xad mismos. Por otro lado, cricetas, elfos y humanos convivieron por un tiempo aunque poco a poco sus diferencias tambi\\xc3\\xa9n salieron a la luz, los elfos empezaron a despreciar a los cricetas ya que no eran un clan que destaque por su fuerza f\\xc3\\xadsica o experiencia en combate, es m\\xc3\\xa1s, ellos eran los m\\xc3\\xa1s d\\xc3\\xa9biles con diferencia entre los 6 clanes, pero su astucia los hab\\xc3\\xada mantenido con vida. Cuando todas las razas decidieron formar su propia ciudad, la antigua ciudad que albergaba a todos fue remodelada para ser la sede central, la gran capital de Aurora, donde el rey o reina suprema de turno se encargar\\xc3\\xa1 de mediar la interacci\\xc3\\xb3n entre los clanes para evitar posibles confrontaciones o incluso guerras, su deber era mantener el orden dentro del reino, no llevar la administraci\\xc3\\xb3n de estos clanes. Con las d\\xc3\\xa9cadas pasando, la paz y alegr\\xc3\\xada abundaba en Aurora, hasta el punto de que hab\\xc3\\xada pasado mucho tiempo en el que Aurora como tal no se hab\\xc3\\xada mostrado al p\\xc3\\xbablico, sus disc\\xc3\\xadpulos la hab\\xc3\\xadan reemplazado en sus labores administrativas hace mucho tiempo y algunos rumores dicen que se fue a combatir la niebla p\\xc3\\xbarpura, otros afirman sin una pizca de duda que encontr\\xc3\\xb3 el amor y form\\xc3\\xb3 una familia, viviendo ahora una vida tranquila, pero nadie ha informado con seguridad lo que pas\\xc3\\xb3 con ella, es un completo misterio. \\nMuchos a\\xc3\\xb1os despu\\xc3\\xa9s, en el a\\xc3\\xb1o 495 despu\\xc3\\xa9s de Aurora, el reino de los elfos iba a tener una sacudida. Melianor, quien era un elfo hu\\xc3\\xa9rfano en su ni\\xc3\\xb1ez y soldado en su juventud, motivado por una joven humana que lo visitaba durante su ni\\xc3\\xb1ez, de la cual \\xc3\\xa9l estaba enamorado, decidi\\xc3\\xb3 desafiar al actual rey elfo, conocido como \\xe2\\x80\\x9cArtilius\\xe2\\x80\\x9d. No era muy raro que alguien desaf\\xc3\\xade p\\xc3\\xbablicamente a un rey elfo, pero era pr\\xc3\\xa1cticamente imposible que un plebeyo lograra derrotar a un rey. Sin embargo, Melianor lo hizo. Melianor hab\\xc3\\xada vencido a su rey, un desaf\\xc3\\xado que consist\\xc3\\xada en un combate en el que se usaron armas no m\\xc3\\xa1gicas, ya que el rey era por tradici\\xc3\\xb3n el portador de \\xe2\\x80\\x9cBlood & Fire\\xe2\\x80\\x9d las espadas m\\xc3\\xa1gicas m\\xc3\\xa1s poderosas de Aurora, por s\\xc3\\xad solas podr\\xc3\\xadan cambiar el curso de una batalla a gran escala. Si bien el antiguo rey no era un combatiente muy destacable, era muy astuto y fuerte para est\\xc3\\xa1ndares normales de su linaje, estos rasgos lo llevaron a ser despiadado y arrogante con sus pares. Melianor era hu\\xc3\\xa9rfano por las decisiones de su rey, el cual hab\\xc3\\xada enviado a sus padres, soldados leales a la corona, junto a un gran escuadr\\xc3\\xb3n al bosque espectral para ponerle fin a una criatura que hab\\xc3\\xada infundido terror a el reino de Aurora durante muchas d\\xc3\\xa9cadas, principalmente a elfos y humanos ya que estos compart\\xc3\\xadan parte del bosque en la repartici\\xc3\\xb3n de su territorio. Si bien la bestia parec\\xc3\\xada no abandonar el bosque, era muy peligroso acercarse, y con la constante expansi\\xc3\\xb3n del reino humano y \\xc3\\xa9lfico, la distancia entre el bosque y la civilizaci\\xc3\\xb3n se hizo muy peligrosa. a pesar de las constantes expediciones que se hac\\xc3\\xadan, nadie regresaba, debido a esto se decidi\\xc3\\xb3 custodiar el per\\xc3\\xadmetro del bosque para evitar que la bestia saliera del bosque o que alguien entrara descuidadamente, los humanos y los elfos se hicieron m\\xc3\\xa1s cercanos luego de estos acontecimientos.\\nEl gran tigre espectral, o al menos as\\xc3\\xad lo llamaban quienes hab\\xc3\\xadan vivido lo suficiente para enviar cuervos antes de que la bestia fuera lo \\xc3\\xbaltimo que vieran, se hab\\xc3\\xada vuelto un objetivo para Melianor, si bien no hab\\xc3\\xada conocido a sus padres el tiempo suficiente para sentir rencor hacia \\xc3\\xa9l, sent\\xc3\\xada la p\\xc3\\xa9rdida, el vac\\xc3\\xado que esa bestia dej\\xc3\\xb3 en su vida y el pensar que hubiera sido de \\xc3\\xa9l si sus padres no hubieran sido enviados \\xc2\\xbfacaso lo amar\\xc3\\xadan como hijo? \\xc2\\xbfo prefer\\xc3\\xadan morir por las \\xc3\\xb3rdenes de un ser detestable antes de pensar en \\xc3\\xa9l? todo era muy confuso para \\xc3\\xa9l en su ni\\xc3\\xb1ez, en ese momento jam\\xc3\\xa1s pens\\xc3\\xb3 en hacer valer su vida pensando ser el rey que acab\\xc3\\xb3 con el tigre, o incluso ser rey elfo, pero su motivaci\\xc3\\xb3n naci\\xc3\\xb3 de una joven de pelo casta\\xc3\\xb1o claro y ojos miel que empez\\xc3\\xb3 a visitar el reino mientras sus padres se reun\\xc3\\xadan con el rey elfo cuando Melianor era un ni\\xc3\\xb1o, esta joven estaba la mayor parte del tiempo enojada o aburrida en los jardines a los cuales Melianor ten\\xc3\\xada acceso por la ley de protecci\\xc3\\xb3n por servicio, la cual estipulaba que los hu\\xc3\\xa9rfanos hijos de soldados deb\\xc3\\xadan ser cuidados por la corona o adoptados por la nobleza hasta que tengan edad para elegir qu\\xc3\\xa9 hacer con sus vidas. \\nMelianor\\nTodos los d\\xc3\\xadas eran grises, una joven sirvienta con un car\\xc3\\xa1cter digno de una carcelera me despertaba junto a los dem\\xc3\\xa1s ni\\xc3\\xb1os por las ma\\xc3\\xb1anas, deb\\xc3\\xadamos encargarnos de la limpieza del castillo, algunos eran designados a los pasillos y recamaras, otros a los salones, pero yo era uno de los encargados de los jardines, deb\\xc3\\xadamos podar y desmalezar de vez en cuando y regar todos los d\\xc3\\xadas, era un trabajo pesado tomando en consideraci\\xc3\\xb3n la poca mano de obra que hab\\xc3\\xada en comparaci\\xc3\\xb3n con la inmensidad del lugar, todos terminamos las tareas a mediod\\xc3\\xada cuando las sirvientas nos llevan a una sala com\\xc3\\xban donde nos daban el almuerzo, casi siempre era una sopa verde espesa con sabor a nada. Un d\\xc3\\xada, unos ni\\xc3\\xb1os comentaron exaltados que vieron llegar una caravana de carruajes respaldada por varios jinetes a caballo armados, tambi\\xc3\\xa9n dec\\xc3\\xadan que hab\\xc3\\xadan o\\xc3\\xaddo a la jefa de las sirvientas resoplar cuando atrap\\xc3\\xb3 a varias de sus subordinadas cuchicheando  acerca del porte de los caballeros humanos y su fantas\\xc3\\xada de que alguien las rescate de este castillo. Tratando de escapar del caos de los ni\\xc3\\xb1os y ni\\xc3\\xb1as que quer\\xc3\\xadan ver a los flamantes humanos que hab\\xc3\\xadan llegado por asuntos con el rey, decid\\xc3\\xad escabullirme hacia el jard\\xc3\\xadn en donde hab\\xc3\\xada estado trabajando toda la ma\\xc3\\xb1ana, no era precisamente mi lugar favorito en el castillo pero no sol\\xc3\\xada haber nadie all\\xc3\\xad, por lo que era un lugar tranquilo. Para mi sorpresa, al llegar a la salida secreta llegu\\xc3\\xa9 a ver un par de guardias, no se ve\\xc3\\xadan como los guardias del palacio por las facciones de sus rostros y el color de su piel, eran humanos. Decid\\xc3\\xad ser precavido y me ocult\\xc3\\xa9 entre las flores y arbustos, ten\\xc3\\xada tanta curiosidad como mis compa\\xc3\\xb1eros pero a mis ojos su actitud era exagerada, acerc\\xc3\\xa1ndome un poco m\\xc3\\xa1s logr\\xc3\\xa9 ver que esos guardias estaban escoltando a una ni\\xc3\\xb1a m\\xc3\\xa1s o menos de mi edad que portaba un vestido muy sofisticado si lo comparaba con los nobles que hab\\xc3\\xada visto, probablemente sea de la realeza. Era evidente que ella no quer\\xc3\\xada estar aqu\\xc3\\xad, pero sus ojos, su mirada no transmit\\xc3\\xada desprecio o repulsi\\xc3\\xb3n como muchos nobles engre\\xc3\\xaddos con los que me hab\\xc3\\xada topado en el castillo, su enojo era por otra raz\\xc3\\xb3n, se ve\\xc3\\xada algo desanimada. Cautivado por su belleza, hab\\xc3\\xada decidido ir a hablarle, pero primero me escabull\\xc3\\xad de vuelta hacia los pasillos del castillo e intercambie algunas raciones con mis compa\\xc3\\xb1eros para conseguir ropas de noble, no quer\\xc3\\xada que sea evidente que era un hu\\xc3\\xa9rfano y me castigaran por intentar hablarle a una princesa, algo era muy claro en el mundo de los elfos, quien no conoc\\xc3\\xada su lugar siempre pagaba las consecuencias. La ni\\xc3\\xb1a estaba acompa\\xc3\\xb1ada por un joven soldado que parec\\xc3\\xada apenas varios a\\xc3\\xb1os mayor que ella y por otro hombre que parec\\xc3\\xada bastante mayor por las innumerables canas que se luc\\xc3\\xadan en su cabello oscuro y frondosa barba, ambos estaban usando una armadura de un tono morado oscuro casi opaco y portaban una especie de vara de metal gruesa del largo de una espada corta en su espalda, parec\\xc3\\xada una especie de empu\\xc3\\xb1adura sin una hoja visible. Su apariencia no era algo intimidante, adem\\xc3\\xa1s de que sus armas peculiares eran confusas, pero no pude evitar titubear al sentir la imponente presencia de ambos, ellos eran fuertes, absurdamente fuertes. Me sent\\xc3\\xad como un idiota cuando estaba lo suficientemente cerca para que me notaran caminar a pasos tambaleantes, como si en cualquier momento me fuera a caer. El joven soldado se acerc\\xc3\\xb3 a \\x00\\x00\\x00\\x00\\x00\\x00\\x00\\x00\\x00\\x00\\x00m\\x00\\x00\\x00\\x00\\x00\\x00\\x00\\x00\\x00\\x00\\x00\\xc3\\x00\\x00\\x00\\x00\\x00\\x00\\x00\\x00\\x00\\x00\\x00\\xad\\x00\\x00\\x00\\x00\\x00\\x00\\x00\\x00\\x00\\x00\\x00.'\n"
     ]
    }
   ],
   "source": [
    "import codecs\n",
    "with open(\"../datos/descompress/texto1.txt\",\"rb\") as f:\n",
    "    data = f.read()\n",
    "    print(str(data))"
   ]
  }
 ],
 "metadata": {
  "kernelspec": {
   "display_name": "Python 3 (ipykernel)",
   "language": "python",
   "name": "python3"
  },
  "language_info": {
   "codemirror_mode": {
    "name": "ipython",
    "version": 3
   },
   "file_extension": ".py",
   "mimetype": "text/x-python",
   "name": "python",
   "nbconvert_exporter": "python",
   "pygments_lexer": "ipython3",
   "version": "3.11.5"
  }
 },
 "nbformat": 4,
 "nbformat_minor": 5
}
